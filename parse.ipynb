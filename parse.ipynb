{
 "cells": [
  {
   "cell_type": "code",
   "execution_count": 24,
   "metadata": {},
   "outputs": [],
   "source": [
    "import os \n",
    "import struct\n",
    "import logging\n",
    "import argparse\n",
    "import enum\n",
    "\n",
    "# logging.basicConfig(level=logging.WARNING)  # 正常模式\n",
    "logging.basicConfig(level=logging.DEBUG)  # 调试模式"
   ]
  },
  {
   "cell_type": "code",
   "execution_count": 1,
   "metadata": {},
   "outputs": [],
   "source": [
    "\n",
    "PCIE_CONFIG = {\n",
    "    0:[\n",
    "        {\"frame\": 3454, \"word\":  20, \"bit\": 26, \"data\": \"1\"},\n",
    "        {\"frame\": 3454, \"word\":  20, \"bit\": 25, \"data\": \"1\"},\n",
    "        {\"frame\": 3455, \"word\":  20, \"bit\": 24, \"data\": \"1\"},\n",
    "        {\"frame\": 3455, \"word\":  20, \"bit\": 21, \"data\": \"1\"},\n",
    "        {\"frame\": 3475, \"word\":  21, \"bit\":  8, \"data\": \"1\"},\n",
    "        {\"frame\": 3479, \"word\":  21, \"bit\":  8, \"data\": \"1\"},\n",
    "        {\"frame\": 3829, \"word\":   0, \"bit\":  2, \"data\": \"1\"},\n",
    "        {\"frame\": 3829, \"word\":  22, \"bit\":  2, \"data\": \"1\"},\n",
    "        {\"frame\": 3829, \"word\":  57, \"bit\":  2, \"data\": \"1\"},\n",
    "        {\"frame\": 3829, \"word\":  79, \"bit\":  2, \"data\": \"1\"}\n",
    "    ],\n",
    "    1:[\n",
    "        {\"frame\": 3454, \"word\":  20, \"bit\": 25, \"data\": \"1\"},   \n",
    "        {\"frame\": 3454, \"word\":  20, \"bit\": 22, \"data\": \"1\"},   \n",
    "        {\"frame\": 3454, \"word\":  22, \"bit\": 12, \"data\": \"1\"},   \n",
    "        {\"frame\": 3462, \"word\":  22, \"bit\": 15, \"data\": \"1\"},   \n",
    "        {\"frame\": 3468, \"word\":  22, \"bit\": 15, \"data\": \"1\"},   \n",
    "        {\"frame\": 3475, \"word\":  22, \"bit\":  8, \"data\": \"1\"},   \n",
    "        {\"frame\": 3479, \"word\":  22, \"bit\":  8, \"data\": \"1\"},\n",
    "        {\"frame\": 3829, \"word\":   0, \"bit\":  2, \"data\": \"1\"},\n",
    "        {\"frame\": 3829, \"word\":  22, \"bit\":  2, \"data\": \"1\"},\n",
    "        {\"frame\": 3829, \"word\":  57, \"bit\":  2, \"data\": \"1\"},\n",
    "        {\"frame\": 3829, \"word\":  79, \"bit\":  2, \"data\": \"1\"}  \n",
    "    ],\n",
    "    2:[\n",
    "        {\"frame\": 3454, \"word\":  20, \"bit\": 25, \"data\": \"1\"},\n",
    "        {\"frame\": 3454, \"word\":  20, \"bit\": 22, \"data\": \"1\"},\n",
    "        {\"frame\": 3455, \"word\":  22, \"bit\":  7, \"data\": \"1\"},\n",
    "        {\"frame\": 3462, \"word\":  22, \"bit\": 14, \"data\": \"1\"},\n",
    "        {\"frame\": 3468, \"word\":  22, \"bit\": 15, \"data\": \"1\"},\n",
    "        {\"frame\": 3475, \"word\":  22, \"bit\":  0, \"data\": \"1\"},\n",
    "        {\"frame\": 3479, \"word\":  22, \"bit\":  0, \"data\": \"1\"}, \n",
    "        {\"frame\": 3829, \"word\":   0, \"bit\":  2, \"data\": \"1\"},\n",
    "        {\"frame\": 3829, \"word\":  22, \"bit\":  2, \"data\": \"1\"},\n",
    "        {\"frame\": 3829, \"word\":  57, \"bit\":  2, \"data\": \"1\"},\n",
    "        {\"frame\": 3829, \"word\":  79, \"bit\":  2, \"data\": \"1\"}  \n",
    "    ]\n",
    "}"
   ]
  },
  {
   "cell_type": "code",
   "execution_count": 8,
   "metadata": {},
   "outputs": [
    {
     "name": "stdout",
     "output_type": "stream",
     "text": [
      "{'frame': 3454, 'word': 20, 'bit': 26, 'data': '1'}\n",
      "{'frame': 3455, 'word': 20, 'bit': 24, 'data': '1'}\n",
      "{'frame': 3455, 'word': 20, 'bit': 21, 'data': '1'}\n",
      "{'frame': 3475, 'word': 21, 'bit': 8, 'data': '1'}\n",
      "{'frame': 3479, 'word': 21, 'bit': 8, 'data': '1'}\n",
      "==============\n",
      "{'frame': 3454, 'word': 22, 'bit': 12, 'data': '1'}\n",
      "{'frame': 3462, 'word': 22, 'bit': 15, 'data': '1'}\n",
      "{'frame': 3475, 'word': 22, 'bit': 8, 'data': '1'}\n",
      "{'frame': 3479, 'word': 22, 'bit': 8, 'data': '1'}\n",
      "==============\n",
      "{'frame': 3455, 'word': 22, 'bit': 7, 'data': '1'}\n",
      "{'frame': 3462, 'word': 22, 'bit': 14, 'data': '1'}\n",
      "{'frame': 3475, 'word': 22, 'bit': 0, 'data': '1'}\n",
      "{'frame': 3479, 'word': 22, 'bit': 0, 'data': '1'}\n",
      "==============\n"
     ]
    }
   ],
   "source": [
    "PCIE_CHECK = {\n",
    "    0:[\n",
    "        {\"frame\": 3454, \"word\":  20, \"bit\": 26, \"data\": \"1\"},\n",
    "        {\"frame\": 3455, \"word\":  20, \"bit\": 24, \"data\": \"1\"},\n",
    "        {\"frame\": 3455, \"word\":  20, \"bit\": 21, \"data\": \"1\"},\n",
    "        {\"frame\": 3475, \"word\":  21, \"bit\":  8, \"data\": \"1\"},\n",
    "        {\"frame\": 3479, \"word\":  21, \"bit\":  8, \"data\": \"1\"},\n",
    "        \n",
    "    ],\n",
    "    1:[ \n",
    "        {\"frame\": 3454, \"word\":  22, \"bit\": 12, \"data\": \"1\"},   \n",
    "        {\"frame\": 3462, \"word\":  22, \"bit\": 15, \"data\": \"1\"},    \n",
    "        {\"frame\": 3475, \"word\":  22, \"bit\":  8, \"data\": \"1\"},   \n",
    "        {\"frame\": 3479, \"word\":  22, \"bit\":  8, \"data\": \"1\"}\n",
    "    ],\n",
    "    2:[\n",
    "        {\"frame\": 3455, \"word\":  22, \"bit\":  7, \"data\": \"1\"},\n",
    "        {\"frame\": 3462, \"word\":  22, \"bit\": 14, \"data\": \"1\"},    \n",
    "        {\"frame\": 3475, \"word\":  22, \"bit\":  0, \"data\": \"1\"},\n",
    "        {\"frame\": 3479, \"word\":  22, \"bit\":  0, \"data\": \"1\"}\n",
    "    ]\n",
    "}\n",
    "\n",
    "for index in PCIE_CHECK:\n",
    "    group = PCIE_CHECK[index]\n",
    "    for item in group:\n",
    "        print(item)\n",
    "    print(\"==============\")"
   ]
  },
  {
   "cell_type": "code",
   "execution_count": 22,
   "metadata": {},
   "outputs": [
    {
     "name": "stdout",
     "output_type": "stream",
     "text": [
      "a\n",
      "b\n",
      "c\n"
     ]
    }
   ],
   "source": [
    "a = [{\"a\":[1,2,3,4]},\n",
    "     {\"b\":123},\n",
    "     {\"c\":121233}]\n",
    "for item in a:\n",
    "    for key in item:\n",
    "        print(key)"
   ]
  },
  {
   "cell_type": "code",
   "execution_count": 31,
   "metadata": {},
   "outputs": [
    {
     "name": "stdout",
     "output_type": "stream",
     "text": [
      "00000\n",
      "0000000000010000000000011111111100101\n",
      "1010011111111100000000000100000000000\n"
     ]
    }
   ],
   "source": [
    "binary_str = \"00000010000000000011111111100101\"\n",
    "address = binary_str[13:18]\n",
    "print(address)\n",
    "crc_data_in = address + binary_str\n",
    "print(crc_data_in)\n",
    "new_str = \"\".join([i for i in crc_data_in[::-1]])\n",
    "print(new_str)"
   ]
  }
 ],
 "metadata": {
  "kernelspec": {
   "display_name": "eda_38",
   "language": "python",
   "name": "python3"
  },
  "language_info": {
   "codemirror_mode": {
    "name": "ipython",
    "version": 3
   },
   "file_extension": ".py",
   "mimetype": "text/x-python",
   "name": "python",
   "nbconvert_exporter": "python",
   "pygments_lexer": "ipython3",
   "version": "3.8.19"
  }
 },
 "nbformat": 4,
 "nbformat_minor": 2
}
