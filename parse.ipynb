{
 "cells": [
  {
   "cell_type": "code",
   "execution_count": 2,
   "metadata": {},
   "outputs": [],
   "source": [
    "import os \n",
    "import struct\n",
    "import logging\n",
    "import argparse\n",
    "import enum\n",
    "\n",
    "# logging.basicConfig(level=logging.WARNING)  # 正常模式\n",
    "logging.basicConfig(level=logging.DEBUG)  # 调试模式"
   ]
  },
  {
   "cell_type": "code",
   "execution_count": 4,
   "metadata": {},
   "outputs": [],
   "source": [
    "file_path = r'E:\\workspace\\parse_bitstream\\parse_bitstream\\data\\system_wrapper_1_原版.bit'"
   ]
  },
  {
   "cell_type": "code",
   "execution_count": 19,
   "metadata": {},
   "outputs": [
    {
     "name": "stderr",
     "output_type": "stream",
     "text": [
      "DEBUG:root:\tA content: 6578616d706c655f746f703b5573657249443d305846464646464646463b56657273696f6e3d323032302e3200\n",
      "DEBUG:root:\tB content: 37613130307466676734383400\n",
      "DEBUG:root:\tC content: 323032342f30372f303900\n",
      "DEBUG:root:\tD content: 31313a31363a323100\n",
      "DEBUG:root:\tE content: 003a607c\n"
     ]
    }
   ],
   "source": [
    "bit_head_content = b''\n",
    "start_index = 0\n",
    "end_index = 0\n",
    "with open(file_path, 'rb') as f:\n",
    "# ========== 起始数据 ============\n",
    "    bit_head_content += f.read(2) # 标识\n",
    "    bit_head_content += f.read(11) # 内容\n",
    "    start_index += 13\n",
    "    # ========== 起始数据 ============\n",
    "    \n",
    "    # ========== 标识符A ============\n",
    "    \n",
    "    bit_head_content += f.read(1) # 标识 b'\\x61'\n",
    "    cur_group_length = f.read(2)\n",
    "    bit_head_content += cur_group_length  # 内容 该组字节长度\n",
    "    group_length = struct.unpack('>H', cur_group_length)[0]\n",
    "    bit_head_content += f.read(group_length) # 文件路径、Version、UserID\n",
    "    start_index += 3\n",
    "    end_index = start_index + group_length\n",
    "    logging.debug(f\"\\tA content: {bit_head_content[start_index:end_index].hex()}\")\n",
    "    start_index = end_index\n",
    "    # ========== 标识符A ============\n",
    "    \n",
    "    # ========== 标识符B ============\n",
    "    bit_head_content += f.read(1) # 标识 b'\\x62'\n",
    "    cur_group_length = f.read(2)\n",
    "    bit_head_content += cur_group_length  # 内容 该组字节长度\n",
    "    group_length = struct.unpack('>H', cur_group_length)[0]\n",
    "    bit_head_content += f.read(group_length) # part name\n",
    "    start_index += 3\n",
    "    end_index = start_index + group_length\n",
    "    logging.debug(f\"\\tB content: {bit_head_content[start_index:end_index].hex()}\")\n",
    "    start_index = end_index\n",
    "    # ========== 标识符B ============\n",
    "    \n",
    "    # ========== 标识符C ============\n",
    "    bit_head_content += f.read(1) # 标识 b'\\x63'\n",
    "    cur_group_length = f.read(2)\n",
    "    bit_head_content += cur_group_length  # 内容 该组字节长度\n",
    "    group_length = struct.unpack('>H', cur_group_length)[0]\n",
    "    bit_head_content += f.read(group_length) # 年/月/日\n",
    "    start_index += 3\n",
    "    end_index = start_index + group_length\n",
    "    logging.debug(f\"\\tC content: {bit_head_content[start_index:end_index].hex()}\")\n",
    "    start_index = end_index\n",
    "    # ========== 标识符C ============\n",
    "\n",
    "    # ========== 标识符D ============\n",
    "    bit_head_content += f.read(1) # 标识 b'\\x64'\n",
    "    cur_group_length = f.read(2)\n",
    "    bit_head_content += cur_group_length  # 内容 该组字节长度\n",
    "    group_length = struct.unpack('>H', cur_group_length)[0]\n",
    "    bit_head_content += f.read(group_length) # 时:分:秒\n",
    "    start_index += 3\n",
    "    end_index = start_index + group_length\n",
    "    logging.debug(f\"\\tD content: {bit_head_content[start_index:end_index].hex()}\")\n",
    "    start_index = end_index\n",
    "    # ========== 标识符D ============\n",
    "\n",
    "    # ========== 标识符E ============\n",
    "    bit_head_content += f.read(1) # 标识 b'\\x65'\n",
    "    bit_head_content += f.read(4) # 位流的总长度\n",
    "    start_index += 1\n",
    "    end_index = start_index + 4\n",
    "    logging.debug(f\"\\tE content: {bit_head_content[start_index:end_index].hex()}\")\n",
    "    start_index = end_index\n",
    "    # ========== 标识符E ============\n",
    "    \n",
    "    for i in range(65):\n",
    "        bit_cfg_content = f.read(4)\n",
    "    \n",
    "    test_content = struct.unpack('>I', bit_cfg_content)[0]\n",
    "    \n",
    "    "
   ]
  },
  {
   "cell_type": "code",
   "execution_count": 13,
   "metadata": {},
   "outputs": [],
   "source": [
    "class OpCode(enum.Enum):\n",
    "    NOOP = 0\n",
    "    READ = 1\n",
    "    WRITE = 2\n",
    "    \n",
    "class Address(enum.Enum):\n",
    "    CRC = 0\n",
    "    FAR = 1\n",
    "    FDRI = 2\n",
    "    FDRO = 3\n",
    "    CMD = 4\n",
    "    CTL0 = 5\n",
    "    MASK = 6\n",
    "    STAT = 7\n",
    "    LOUT = 8\n",
    "    COR0 = 9\n",
    "    MFWR = 10\n",
    "    CBC = 11\n",
    "    IDCODE = 12 \n",
    "    AXSS = 13\n",
    "    COR1 = 14\n",
    "    UNKNOWN_15 = 15 #if write, csob_reg(ib) <= packet, csbo_cnt(ib) <= word count, csbo_flag(ib) < '1'\n",
    "    WBSTAR = 16\n",
    "    TIMER = 17\n",
    "    UNKNOWN_18 = 18\n",
    "    POST_CRC = 19 #Undocumented in UG470\n",
    "    UNKNOWN_20 = 20\n",
    "    UNKNOWN_21 = 21\n",
    "    BOOTSTS = 22\n",
    "    CTL1 = 24\n",
    "    UNKNOWN_30 = 30 #if next packet is Type2 and bcout_cnt(ib) = 0, set bocut_flag(ib) <= '1' and bout_cnt(ib) <= word count\n",
    "    BSPI = 31"
   ]
  },
  {
   "cell_type": "code",
   "execution_count": 17,
   "metadata": {},
   "outputs": [],
   "source": [
    "def get_packet_type(word):\n",
    "    return word >> 29 \n",
    "\n",
    "def get_type_1_packet_content(word):\n",
    "    header_type = get_packet_type(word)\n",
    "    opcode = OpCode((word >> 27) & 0x3)\n",
    "    address = Address((word >> 13) & 0x1F)\n",
    "    reserved = (word >> 11) & 0x3\n",
    "    word_count = word & 0x7FF\n",
    "    return {\n",
    "            \"header_type\":header_type,\n",
    "            \"opcode\":opcode,\n",
    "            \"address\":address,\n",
    "            \"reserved\":reserved,\n",
    "            \"word_count\":word_count\n",
    "        }"
   ]
  },
  {
   "cell_type": "code",
   "execution_count": 21,
   "metadata": {},
   "outputs": [],
   "source": [
    "a = get_type_1_packet_content(test_content)"
   ]
  },
  {
   "cell_type": "code",
   "execution_count": 24,
   "metadata": {},
   "outputs": [
    {
     "data": {
      "text/plain": [
       "True"
      ]
     },
     "execution_count": 24,
     "metadata": {},
     "output_type": "execute_result"
    }
   ],
   "source": [
    "a[\"opcode\"] == OpCode.WRITE"
   ]
  },
  {
   "cell_type": "code",
   "execution_count": 11,
   "metadata": {},
   "outputs": [
    {
     "data": {
      "text/plain": [
       "0"
      ]
     },
     "execution_count": 11,
     "metadata": {},
     "output_type": "execute_result"
    }
   ],
   "source": [
    "# 001 10 000000000 00010 00 00000000000"
   ]
  },
  {
   "cell_type": "code",
   "execution_count": 9,
   "metadata": {},
   "outputs": [
    {
     "data": {
      "text/plain": [
       "187"
      ]
     },
     "execution_count": 9,
     "metadata": {},
     "output_type": "execute_result"
    }
   ],
   "source": [
    "test_content"
   ]
  }
 ],
 "metadata": {
  "kernelspec": {
   "display_name": "eda_38",
   "language": "python",
   "name": "python3"
  },
  "language_info": {
   "codemirror_mode": {
    "name": "ipython",
    "version": 3
   },
   "file_extension": ".py",
   "mimetype": "text/x-python",
   "name": "python",
   "nbconvert_exporter": "python",
   "pygments_lexer": "ipython3",
   "version": "3.8.19"
  }
 },
 "nbformat": 4,
 "nbformat_minor": 2
}
