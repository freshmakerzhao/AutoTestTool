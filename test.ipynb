{
 "cells": [
  {
   "cell_type": "code",
   "execution_count": 1,
   "metadata": {},
   "outputs": [],
   "source": [
    "import re\n",
    "import json\n",
    "from parse_bitstream_v2 import BitstreamParser\n",
    "import hashlib\n",
    "from collections import defaultdict"
   ]
  },
  {
   "cell_type": "code",
   "execution_count": 31,
   "metadata": {},
   "outputs": [],
   "source": [
    "import config_command"
   ]
  },
  {
   "cell_type": "code",
   "execution_count": 32,
   "metadata": {},
   "outputs": [
    {
     "ename": "AttributeError",
     "evalue": "module 'config_command' has no attribute 'asf'",
     "output_type": "error",
     "traceback": [
      "\u001b[1;31m---------------------------------------------------------------------------\u001b[0m",
      "\u001b[1;31mAttributeError\u001b[0m                            Traceback (most recent call last)",
      "Cell \u001b[1;32mIn[32], line 1\u001b[0m\n\u001b[1;32m----> 1\u001b[0m \u001b[43mconfig_command\u001b[49m\u001b[38;5;241;43m.\u001b[39;49m\u001b[43masf\u001b[49m()\n",
      "\u001b[1;31mAttributeError\u001b[0m: module 'config_command' has no attribute 'asf'"
     ]
    }
   ],
   "source": [
    "\n",
    "config_command.asf()"
   ]
  },
  {
   "cell_type": "code",
   "execution_count": 2,
   "metadata": {},
   "outputs": [],
   "source": [
    "json_file_path = r\"E:\\workspace\\parse_bitstream\\parse_bitstream\\压缩位流相关知识\\MCF100T_v2.json\"\n",
    "# 读取JSON文件\n",
    "with open(json_file_path, 'r') as file:\n",
    "    json_file = json.load(file)"
   ]
  },
  {
   "cell_type": "code",
   "execution_count": 3,
   "metadata": {},
   "outputs": [],
   "source": [
    "file_path = r\"E:\\workspace\\parse_bitstream\\parse_bitstream\\压缩位流相关知识\\compress\\原版\\origin.rbt\"\n",
    "bit_parser = BitstreamParser(file_path, \"False\")"
   ]
  },
  {
   "cell_type": "code",
   "execution_count": 4,
   "metadata": {},
   "outputs": [],
   "source": [
    "data_frame = bit_parser.rbt_data_content"
   ]
  },
  {
   "cell_type": "code",
   "execution_count": 5,
   "metadata": {},
   "outputs": [],
   "source": [
    "# 获取特征值\n",
    "# 这里传入content为list， 每个元素的数据类型为 content_type\n",
    "def get_feature(content:list, content_type = \"int\"):\n",
    "    if content_type == \"str\":\n",
    "        # 此时是二进制字符串作为一个元素\n",
    "        combined_string = ''.join(content)\n",
    "        # 使用 hashlib 计算特征值（SHA256）\n",
    "        feature_hash = hashlib.sha256(combined_string.encode()).hexdigest()\n",
    "        return feature_hash\n",
    "    elif content_type == \"int\":\n",
    "        pass"
   ]
  },
  {
   "cell_type": "code",
   "execution_count": 6,
   "metadata": {},
   "outputs": [],
   "source": [
    "# 数据帧特征值作为key\n",
    "# value : \n",
    "# {   \n",
    "#     \"FAR\": {\n",
    "#         \"frame_type\": 0,\n",
    "#         \"region_type\": 0,\n",
    "#         \"row_num\": 0,\n",
    "#         \"col_num\": 0,\n",
    "#         \"frame_index\": 0\n",
    "#     },\n",
    "#     \"index\":{\n",
    "#         \"start_index\":0,\n",
    "#         \"end_index\":101\n",
    "#     },\n",
    "#     \"feature\": \"123\"\n",
    "# }\n",
    "# 每个row相互独立\n",
    "data_frame_features_index = defaultdict(list)\n",
    "start_index = 0\n",
    "end_index = 101 # 这里是开区间，不包括101\n",
    "cur_row = 0\n",
    "frame_count = 0\n",
    "all_frame_count = 0\n",
    "for frame_type_key, frame_type_value in json_file.items():\n",
    "    \n",
    "    # type 0 type 1\n",
    "    data_frame_features_index[frame_type_key] = {}\n",
    "    \n",
    "    # 遍历 frame_type 层\n",
    "    for region_type_key, region_type_value in frame_type_value.items():\n",
    "        \n",
    "        # top bottom\n",
    "        data_frame_features_index[frame_type_key][region_type_key] = {}\n",
    "        \n",
    "        # 遍历 region_type 层\n",
    "        for row_num_key, row_num_value in region_type_value.items():\n",
    "            \n",
    "            # row 0 1\n",
    "            data_frame_features_index[frame_type_key][region_type_key][row_num_key] = defaultdict(list)\n",
    "            frame_count = 0\n",
    "            # 遍历 row_num 层\n",
    "            for col_num_key, group_data_item in row_num_value.items():\n",
    "                # group_data_item 包含 FAR 和 frame_count\n",
    "                frame_count += group_data_item[\"frame_count\"]\n",
    "                word_count = group_data_item[\"frame_count\"] * 101 # 这里拿到word数\n",
    "                end_index = start_index + word_count\n",
    "                \n",
    "                # 每次拿一帧的数据计算\n",
    "                frame_index = 0\n",
    "                for index in range(start_index, end_index, 101):\n",
    "                    feature = get_feature(data_frame[index:index+101], \"str\")\n",
    "                    \n",
    "                    # 添加到字典\n",
    "                    data_frame_features_index[frame_type_key][region_type_key][row_num_key][feature].append(\n",
    "                        {\n",
    "                            \"FAR\": {\n",
    "                                \"frame_type\": group_data_item[\"FAR\"][\"frame_type\"],\n",
    "                                \"region_type\": group_data_item[\"FAR\"][\"region_type\"],\n",
    "                                \"row_num\": group_data_item[\"FAR\"][\"row_num\"],\n",
    "                                \"col_num\": group_data_item[\"FAR\"][\"col_num\"],\n",
    "                                \"frame_index\": frame_index\n",
    "                            },\n",
    "                            \"index\": {\n",
    "                                \"start_index\": index,\n",
    "                                \"end_index\": index + 101\n",
    "                            },\n",
    "                            \"feature\": feature\n",
    "                        }\n",
    "                    )\n",
    "                    frame_index += 1\n",
    "                \n",
    "                # 更新 start_index\n",
    "                start_index = end_index\n",
    "                \n",
    "            # 完成一个row后，start_index需要向后跳两帧，这里有两帧的pad\n",
    "            start_index += 101*2\n",
    "            \n",
    "            all_frame_count += frame_count"
   ]
  },
  {
   "cell_type": "code",
   "execution_count": 7,
   "metadata": {},
   "outputs": [],
   "source": [
    "new_data_frame = []"
   ]
  },
  {
   "cell_type": "code",
   "execution_count": 16,
   "metadata": {},
   "outputs": [
    {
     "name": "stdout",
     "output_type": "stream",
     "text": [
      "['asf']\n"
     ]
    }
   ],
   "source": [
    "# 插入数据，方便维护\n",
    "def insert_data(target,content,content_type=\"int\"):\n",
    "    if content_type == \"str\":\n",
    "        target.append(content)\n",
    "    elif content_type == \"int\":\n",
    "        pass\n",
    "    else:\n",
    "        pass"
   ]
  },
  {
   "cell_type": "code",
   "execution_count": 2,
   "metadata": {},
   "outputs": [
    {
     "data": {
      "text/plain": [
       "'00000000000000000000000000000001'"
      ]
     },
     "execution_count": 2,
     "metadata": {},
     "output_type": "execute_result"
    }
   ],
   "source": [
    "\n",
    "def create_frame_address_register_binary(type, tb, row, col, min_value):\n",
    "    # 构造32位二进制数\n",
    "    binary = (type << 23) | (tb << 22) | (row << 17) | (col << 7) | min_value\n",
    "    # 转换为32位二进制字符串\n",
    "    return format(binary, '032b')\n",
    "\n",
    "create_frame_address_register_binary(0,0,0,0,1)"
   ]
  },
  {
   "cell_type": "code",
   "execution_count": 15,
   "metadata": {},
   "outputs": [
    {
     "ename": "SyntaxError",
     "evalue": "invalid syntax (782108347.py, line 31)",
     "output_type": "error",
     "traceback": [
      "\u001b[1;36m  Cell \u001b[1;32mIn[15], line 31\u001b[1;36m\u001b[0m\n\u001b[1;33m    else\u001b[0m\n\u001b[1;37m        ^\u001b[0m\n\u001b[1;31mSyntaxError\u001b[0m\u001b[1;31m:\u001b[0m invalid syntax\n"
     ]
    }
   ],
   "source": [
    "\n",
    "for frame_type_key, frame_type_value in data_frame_features_index.items():\n",
    "    # 遍历 frame_type 层\n",
    "    for region_type_key, region_type_value in frame_type_value.items():\n",
    "        # 遍历 region_type 层\n",
    "        for row_num_key, row_num_value in region_type_value.items():\n",
    "            # 遍历 row_num 层,每个元素\n",
    "            # feature : \n",
    "            # [{   \n",
    "            #     \"FAR\": {\n",
    "            #         \"frame_type\": 0,\n",
    "            #         \"region_type\": 0,\n",
    "            #         \"row_num\": 0,\n",
    "            #         \"col_num\": 0,\n",
    "            #         \"frame_index\": 0\n",
    "            #     },\n",
    "            #     \"index\":{\n",
    "            #         \"start_index\":0,\n",
    "            #         \"end_index\":101\n",
    "            #     },\n",
    "            #     \"feature\": \"123\"\n",
    "            # },\n",
    "            # ...]\n",
    "            for feature,group_data_item in row_num_value.items():\n",
    "                # group_data_item 为 每个row不同特征值的数据\n",
    "                # 当前特征值下帧数目\n",
    "                group_len = len(group_data_item)\n",
    "                if group_len > 1:\n",
    "                    # 多帧数据\n",
    "                    # 头帧格式：\n",
    "                    # 00110000000000000010000000000001\tWrite Reg:FAR, word:1\n",
    "                    # 00000000000000000000000000000000\ttype:0 tb:0 row:0 col:0 min:0 真实地址，来自于FAR\n",
    "                    # 00110000000000001000000000000001\tWrite Reg:CMD, word:1\n",
    "                    # 00000000000000000000000000000001\tcommand:WCFG\n",
    "                    # 00100000000000000000000000000000\tNOP*1\n",
    "                    # 00110000000000000100000001100101\tWrite Reg:FDRI, word:101\n",
    "                    # ........... 101 WORD ...........\n",
    "                    # 00110000000000001000000000000001\tWrite Reg:CMD, word:1\n",
    "                    # 00000000000000000000000000000010\tcommand:MFW \n",
    "                    # 00100000000000000000000000000000\tNOP*12\n",
    "                    # 00110000000000010100000000001000\tWrite Reg:MFWR, word:8\n",
    "                    # 00000000000000000000000000000000  ZERO_FRAME*8\n",
    "                    \n",
    "                    # 1. 插入一个完整头帧\n",
    "                    \n",
    "                    # \n",
    "                    pass\n",
    "                elif group_len == 1:\n",
    "                    # 单帧时\n",
    "                    \n",
    "                    pass\n",
    "                else:\n",
    "                    # 异常情况\n",
    "                    \n",
    "                    pass"
   ]
  },
  {
   "cell_type": "code",
   "execution_count": 37,
   "metadata": {},
   "outputs": [],
   "source": [
    "# for item in data_frame_features_index[\"frame_type_0\"][\"region_type_0\"][\"row_num_0\"][\"077a6de9ffaa89c2626a4dc887d001fd81cf8c41a9bf796acfba47ed385b4f79\"]:\n",
    "#     print(item['FAR'])\n",
    "#     print(data_frame[item['index']['start_index']:item['index']['end_index']])"
   ]
  },
  {
   "cell_type": "code",
   "execution_count": 10,
   "metadata": {},
   "outputs": [
    {
     "data": {
      "text/plain": [
       "b'0\\x00@Z'"
      ]
     },
     "execution_count": 10,
     "metadata": {},
     "output_type": "execute_result"
    }
   ],
   "source": [
    "def get_frame_data_register_input(word_count):\n",
    "    # 将 word_count 转换为 10 位的二进制字符串，不足 10 位补 0，超出则截取\n",
    "    word_count_binary = f'{word_count:011b}'[-11:]\n",
    "    # 固定部分：前 22 位是 \"001100000000000001000\"\n",
    "    fixed_part = \"001100000000000001000\"\n",
    "    \n",
    "    # 拼接前 22 位和后 10 位的 word_count\n",
    "    frame_data_register_input = fixed_part + word_count_binary\n",
    "    \n",
    "        # 将二进制字符串转换为整数\n",
    "    frame_data_register_input_int = int(frame_data_register_input, 2)\n",
    "\n",
    "    # 将整数转换为 4 字节的字节序列\n",
    "    frame_data_register_input_bytes = frame_data_register_input_int.to_bytes(4, byteorder='big')\n",
    "\n",
    "    return frame_data_register_input_bytes\n",
    "\n",
    "get_frame_data_register_input(90)"
   ]
  },
  {
   "cell_type": "code",
   "execution_count": 9,
   "metadata": {},
   "outputs": [
    {
     "data": {
      "text/plain": [
       "'11111111111'"
      ]
     },
     "execution_count": 9,
     "metadata": {},
     "output_type": "execute_result"
    }
   ],
   "source": [
    "f'{99999999999999999999999:011b}'[-11:]"
   ]
  },
  {
   "cell_type": "code",
   "execution_count": null,
   "metadata": {},
   "outputs": [],
   "source": [
    "a = {\"a\":123,\"b\":123,\"c\":123,\"d\":123}"
   ]
  }
 ],
 "metadata": {
  "kernelspec": {
   "display_name": "eda_38",
   "language": "python",
   "name": "python3"
  },
  "language_info": {
   "codemirror_mode": {
    "name": "ipython",
    "version": 3
   },
   "file_extension": ".py",
   "mimetype": "text/x-python",
   "name": "python",
   "nbconvert_exporter": "python",
   "pygments_lexer": "ipython3",
   "version": "3.8.19"
  }
 },
 "nbformat": 4,
 "nbformat_minor": 2
}
